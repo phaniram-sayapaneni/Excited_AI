{
 "cells": [
  {
   "cell_type": "code",
   "execution_count": 1,
   "metadata": {},
   "outputs": [
    {
     "name": "stderr",
     "output_type": "stream",
     "text": [
      "/Users/phaniram/anaconda/lib/python3.6/site-packages/h5py/__init__.py:36: FutureWarning: Conversion of the second argument of issubdtype from `float` to `np.floating` is deprecated. In future, it will be treated as `np.float64 == np.dtype(float).type`.\n",
      "  from ._conv import register_converters as _register_converters\n"
     ]
    },
    {
     "name": "stdout",
     "output_type": "stream",
     "text": [
      "WARNING:tensorflow:From /Users/phaniram/anaconda/lib/python3.6/site-packages/tensorflow/contrib/learn/python/learn/datasets/base.py:198: retry (from tensorflow.contrib.learn.python.learn.datasets.base) is deprecated and will be removed in a future version.\n",
      "Instructions for updating:\n",
      "Use the retry module or similar alternatives.\n"
     ]
    }
   ],
   "source": [
    "from stable_baselines import logger, deepq\n",
    "from stable_baselines.common import tf_util, OffPolicyRLModel, SetVerbosity, TensorboardWriter\n",
    "from stable_baselines.common.vec_env import VecEnv\n",
    "from stable_baselines.common.schedules import LinearSchedule\n",
    "from stable_baselines.deepq.replay_buffer import ReplayBuffer, PrioritizedReplayBuffer\n",
    "from stable_baselines.deepq.policies import DQNPolicy\n",
    "from stable_baselines.a2c.utils import find_trainable_variables, total_episode_reward_logger\n",
    "from functools import partial\n",
    "import tensorflow as tf\n",
    "import numpy as np\n",
    "import gym\n",
    "from stable_baselines.common.policies import MlpPolicy, CnnPolicy\n",
    "from stable_baselines.common.vec_env import DummyVecEnv\n",
    "from stable_baselines.bench import Monitor\n",
    "from stable_baselines.results_plotter import load_results, ts2xy\n",
    "import matplotlib.pyplot as plt\n",
    "from stable_baselines.deepq.policies import FeedForwardPolicy, CnnPolicy\n",
    "from stable_baselines.common.cmd_util import make_atari_env, make_atari\n",
    "from stable_baselines.common.vec_env import VecFrameStack\n",
    "from stable_baselines.common.atari_wrappers import make_atari, MaxAndSkipEnv, NoopResetEnv\n",
    "from stable_baselines.deepq import DQN, wrap_atari_dqn#, DQN2\n",
    "from stable_baselines.bench import Monitor"
   ]
  },
  {
   "cell_type": "code",
   "execution_count": 7,
   "metadata": {},
   "outputs": [],
   "source": [
    "class DQN(OffPolicyRLModel):\n",
    "    \"\"\"\n",
    "    The DQN model class. DQN paper: https://arxiv.org/pdf/1312.5602.pdf\n",
    "    :param policy: (DQNPolicy or str) The policy model to use (MlpPolicy, CnnPolicy, LnMlpPolicy, ...)\n",
    "    :param env: (Gym environment or str) The environment to learn from (if registered in Gym, can be str)\n",
    "    :param gamma: (float) discount factor\n",
    "    :param learning_rate: (float) learning rate for adam optimizer\n",
    "    :param buffer_size: (int) size of the replay buffer\n",
    "    :param exploration_fraction: (float) fraction of entire training period over which the exploration rate is\n",
    "            annealed\n",
    "    :param exploration_final_eps: (float) final value of random action probability\n",
    "    :param train_freq: (int) update the model every `train_freq` steps. set to None to disable printing\n",
    "    :param batch_size: (int) size of a batched sampled from replay buffer for training\n",
    "    :param checkpoint_freq: (int) how often to save the model. This is so that the best version is restored at the\n",
    "            end of the training. If you do not wish to restore the best version\n",
    "            at the end of the training set this variable to None.\n",
    "    :param checkpoint_path: (str) replacement path used if you need to log to somewhere else than a temporary\n",
    "            directory.\n",
    "    :param learning_starts: (int) how many steps of the model to collect transitions for before learning starts\n",
    "    :param target_network_update_freq: (int) update the target network every `target_network_update_freq` steps.\n",
    "    :param prioritized_replay: (bool) if True prioritized replay buffer will be used.\n",
    "    :param prioritized_replay_alpha: (float)alpha parameter for prioritized replay buffer.\n",
    "        It determines how much prioritization is used, with alpha=0 corresponding to the uniform case.\n",
    "    :param prioritized_replay_beta0: (float) initial value of beta for prioritized replay buffer\n",
    "    :param prioritized_replay_beta_iters: (int) number of iterations over which beta will be annealed from initial\n",
    "            value to 1.0. If set to None equals to max_timesteps.\n",
    "    :param prioritized_replay_eps: (float) epsilon to add to the TD errors when updating priorities.\n",
    "    :param param_noise: (bool) Whether or not to apply noise to the parameters of the policy.\n",
    "    :param verbose: (int) the verbosity level: 0 none, 1 training information, 2 tensorflow debug\n",
    "    :param tensorboard_log: (str) the log location for tensorboard (if None, no logging)\n",
    "    :param _init_setup_model: (bool) Whether or not to build the network at the creation of the instance\n",
    "    :param full_tensorboard_log: (bool) enable additional logging when using tensorboard\n",
    "        WARNING: this logging can take a lot of space quickly\n",
    "    \"\"\"\n",
    "\n",
    "    def __init__(self, policy, env, gamma=0.99, learning_rate=5e-4, buffer_size=50000, exploration_fraction=0.1,\n",
    "                 exploration_final_eps=0.02, train_freq=1, batch_size=32, checkpoint_freq=10000, checkpoint_path=None,\n",
    "                 learning_starts=1000, target_network_update_freq=500, prioritized_replay=False,\n",
    "                 prioritized_replay_alpha=0.6, prioritized_replay_beta0=0.4, prioritized_replay_beta_iters=None,\n",
    "                 prioritized_replay_eps=1e-6, param_noise=False, verbose=0, tensorboard_log=None,\n",
    "                 _init_setup_model=True, policy_kwargs=None, full_tensorboard_log=False):\n",
    "\n",
    "        # TODO: replay_buffer refactoring\n",
    "        super(DQN, self).__init__(policy=policy, env=env, replay_buffer=None, verbose=verbose, policy_base=DQNPolicy,\n",
    "                                  requires_vec_env=False, policy_kwargs=policy_kwargs)\n",
    "\n",
    "        self.checkpoint_path = checkpoint_path\n",
    "        self.param_noise = param_noise\n",
    "        self.learning_starts = learning_starts\n",
    "        self.train_freq = train_freq\n",
    "        self.prioritized_replay = prioritized_replay\n",
    "        self.prioritized_replay_eps = prioritized_replay_eps\n",
    "        self.batch_size = batch_size\n",
    "        self.target_network_update_freq = target_network_update_freq\n",
    "        self.checkpoint_freq = checkpoint_freq\n",
    "        self.prioritized_replay_alpha = prioritized_replay_alpha\n",
    "        self.prioritized_replay_beta0 = prioritized_replay_beta0\n",
    "        self.prioritized_replay_beta_iters = prioritized_replay_beta_iters\n",
    "        self.exploration_final_eps = exploration_final_eps\n",
    "        self.exploration_fraction = exploration_fraction\n",
    "        self.buffer_size = buffer_size\n",
    "        self.learning_rate = learning_rate\n",
    "        self.gamma = gamma\n",
    "        self.tensorboard_log = tensorboard_log\n",
    "        self.full_tensorboard_log = full_tensorboard_log\n",
    "\n",
    "        self.graph = None\n",
    "        self.sess = None\n",
    "        self._train_step = None\n",
    "        self.step_model = None\n",
    "        self.update_target = None\n",
    "        self.act = None\n",
    "        self.proba_step = None\n",
    "        self.replay_buffer = None\n",
    "        self.beta_schedule = None\n",
    "        self.exploration = None\n",
    "        self.params = None\n",
    "        self.summary = None\n",
    "        self.episode_reward = None\n",
    "\n",
    "        if _init_setup_model:\n",
    "            self.setup_model()\n",
    "\n",
    "    def _get_pretrain_placeholders(self):\n",
    "        policy = self.step_model\n",
    "        return policy.obs_ph, tf.placeholder(tf.int32, [None]), policy.q_values\n",
    "\n",
    "    def setup_model(self):\n",
    "\n",
    "        with SetVerbosity(self.verbose):\n",
    "            assert not isinstance(self.action_space, gym.spaces.Box), \\\n",
    "                \"Error: DQN cannot output a gym.spaces.Box action space.\"\n",
    "\n",
    "            # If the policy is wrap in functool.partial (e.g. to disable dueling)\n",
    "            # unwrap it to check the class type\n",
    "            if isinstance(self.policy, partial):\n",
    "                test_policy = self.policy.func\n",
    "            else:\n",
    "                test_policy = self.policy\n",
    "            assert issubclass(test_policy, DQNPolicy), \"Error: the input policy for the DQN model must be \" \\\n",
    "                                                       \"an instance of DQNPolicy.\"\n",
    "\n",
    "            self.graph = tf.Graph()\n",
    "            with self.graph.as_default():\n",
    "                self.sess = tf_util.make_session(graph=self.graph)\n",
    "\n",
    "                optimizer = tf.train.AdamOptimizer(learning_rate=self.learning_rate)\n",
    "\n",
    "                self.act, self._train_step, self.update_target, self.step_model = deepq.build_train(\n",
    "                    q_func=partial(self.policy, **self.policy_kwargs),\n",
    "                    ob_space=self.observation_space,\n",
    "                    ac_space=self.action_space,\n",
    "                    optimizer=optimizer,\n",
    "                    gamma=self.gamma,\n",
    "                    grad_norm_clipping=10,\n",
    "                    param_noise=self.param_noise,\n",
    "                    sess=self.sess,\n",
    "                    full_tensorboard_log=self.full_tensorboard_log\n",
    "                )\n",
    "                self.proba_step = self.step_model.proba_step\n",
    "                self.params = find_trainable_variables(\"deepq\")\n",
    "\n",
    "                # Initialize the parameters and copy them to the target network.\n",
    "                tf_util.initialize(self.sess)\n",
    "                self.update_target(sess=self.sess)\n",
    "\n",
    "                self.summary = tf.summary.merge_all()\n",
    "\n",
    "    def learn(self, total_timesteps, callback=None, seed=None, log_interval=100, tb_log_name=\"DQN\",\n",
    "              reset_num_timesteps=True):\n",
    "\n",
    "        new_tb_log = self._init_num_timesteps(reset_num_timesteps)\n",
    "\n",
    "        with SetVerbosity(self.verbose), TensorboardWriter(self.graph, self.tensorboard_log, tb_log_name, new_tb_log) \\\n",
    "                as writer:\n",
    "            self._setup_learn(seed)\n",
    "\n",
    "            # Create the replay buffer\n",
    "            if self.prioritized_replay:\n",
    "                self.replay_buffer = PrioritizedReplayBuffer(self.buffer_size, alpha=self.prioritized_replay_alpha)\n",
    "                if self.prioritized_replay_beta_iters is None:\n",
    "                    prioritized_replay_beta_iters = total_timesteps\n",
    "                else:\n",
    "                    prioritized_replay_beta_iters = self.prioritized_replay_beta_iters\n",
    "                self.beta_schedule = LinearSchedule(prioritized_replay_beta_iters,\n",
    "                                                    initial_p=self.prioritized_replay_beta0,\n",
    "                                                    final_p=1.0)\n",
    "            else:\n",
    "                self.replay_buffer = ReplayBuffer(self.buffer_size)\n",
    "                self.beta_schedule = None\n",
    "            # Create the schedule for exploration starting from 1.\n",
    "            self.exploration = LinearSchedule(schedule_timesteps=int(self.exploration_fraction * total_timesteps),\n",
    "                                              initial_p=1.0,\n",
    "                                              final_p=self.exploration_final_eps)\n",
    "\n",
    "            episode_rewards = [0.0]\n",
    "            obs = self.env.reset()\n",
    "            reset = True\n",
    "            self.episode_reward = np.zeros((1,))\n",
    "\n",
    "            for _ in range(total_timesteps):\n",
    "                if callback is not None:\n",
    "                    # Only stop training if return value is False, not when it is None. This is for backwards\n",
    "                    # compatibility with callbacks that have no return statement.\n",
    "                    if callback(locals(), globals()) is False:\n",
    "                        break\n",
    "                # Take action and update exploration to the newest value\n",
    "                kwargs = {}\n",
    "                if not self.param_noise:\n",
    "                    update_eps = self.exploration.value(self.num_timesteps)\n",
    "                    update_param_noise_threshold = 0.\n",
    "                else:\n",
    "                    update_eps = 0.\n",
    "                    # Compute the threshold such that the KL divergence between perturbed and non-perturbed\n",
    "                    # policy is comparable to eps-greedy exploration with eps = exploration.value(t).\n",
    "                    # See Appendix C.1 in Parameter Space Noise for Exploration, Plappert et al., 2017\n",
    "                    # for detailed explanation.\n",
    "                    update_param_noise_threshold = \\\n",
    "                        -np.log(1. - self.exploration.value(self.num_timesteps) +\n",
    "                                self.exploration.value(self.num_timesteps) / float(self.env.action_space.n))\n",
    "                    kwargs['reset'] = reset\n",
    "                    kwargs['update_param_noise_threshold'] = update_param_noise_threshold\n",
    "                    kwargs['update_param_noise_scale'] = True\n",
    "                with self.sess.as_default():\n",
    "                    action = self.act(np.array(obs)[None], update_eps=update_eps, **kwargs)[0]\n",
    "                env_action = action\n",
    "                reset = False\n",
    "                new_obs, rew, done, _ = self.env.step(env_action)\n",
    "                # Store transition in the replay buffer.\n",
    "                self.replay_buffer.add(obs, action, rew, new_obs, float(done))\n",
    "                obs = new_obs\n",
    "\n",
    "                if writer is not None:\n",
    "                    ep_rew = np.array([rew]).reshape((1, -1))\n",
    "                    ep_done = np.array([done]).reshape((1, -1))\n",
    "                    self.episode_reward = total_episode_reward_logger(self.episode_reward, ep_rew, ep_done, writer,\n",
    "                                                                      self.num_timesteps)\n",
    "\n",
    "                episode_rewards[-1] += rew\n",
    "                if done:\n",
    "                    if not isinstance(self.env, VecEnv):\n",
    "                        obs = self.env.reset()\n",
    "                    episode_rewards.append(0.0)\n",
    "                    reset = True\n",
    "\n",
    "                if self.num_timesteps > self.learning_starts and self.num_timesteps % self.train_freq == 0:\n",
    "                    # Minimize the error in Bellman's equation on a batch sampled from replay buffer.\n",
    "                    if self.prioritized_replay:\n",
    "                        experience = self.replay_buffer.sample(self.batch_size,\n",
    "                                                               beta=self.beta_schedule.value(self.num_timesteps))\n",
    "                        (obses_t, actions, rewards, obses_tp1, dones, weights, batch_idxes) = experience\n",
    "                    else:\n",
    "                        obses_t, actions, rewards, obses_tp1, dones = self.replay_buffer.sample(self.batch_size)\n",
    "                        weights, batch_idxes = np.ones_like(rewards), None\n",
    "\n",
    "                    if writer is not None:\n",
    "                        # run loss backprop with summary, but once every 100 steps save the metadata\n",
    "                        # (memory, compute time, ...)\n",
    "                        if (1 + self.num_timesteps) % 100 == 0:\n",
    "                            run_options = tf.RunOptions(trace_level=tf.RunOptions.FULL_TRACE)\n",
    "                            run_metadata = tf.RunMetadata()\n",
    "                            summary, td_errors = self._train_step(obses_t, actions, rewards, obses_tp1, obses_tp1,\n",
    "                                                                  dones, weights, sess=self.sess, options=run_options,\n",
    "                                                                  run_metadata=run_metadata)\n",
    "                            writer.add_run_metadata(run_metadata, 'step%d' % self.num_timesteps)\n",
    "                        else:\n",
    "                            summary, td_errors = self._train_step(obses_t, actions, rewards, obses_tp1, obses_tp1,\n",
    "                                                                  dones, weights, sess=self.sess)\n",
    "                        writer.add_summary(summary, self.num_timesteps)\n",
    "                    else:\n",
    "                        _, td_errors = self._train_step(obses_t, actions, rewards, obses_tp1, obses_tp1, dones, weights,\n",
    "                                                        sess=self.sess)\n",
    "\n",
    "                    if self.prioritized_replay:\n",
    "                        new_priorities = np.abs(td_errors) + self.prioritized_replay_eps\n",
    "                        self.replay_buffer.update_priorities(batch_idxes, new_priorities)\n",
    "\n",
    "                if self.num_timesteps > self.learning_starts and \\\n",
    "                        self.num_timesteps % self.target_network_update_freq == 0:\n",
    "                    # Update target network periodically.\n",
    "                    self.update_target(sess=self.sess)\n",
    "\n",
    "                if len(episode_rewards[-101:-1]) == 0:\n",
    "                    mean_100ep_reward = -np.inf\n",
    "                else:\n",
    "                    mean_100ep_reward = round(float(np.mean(episode_rewards[-101:-1])), 1)\n",
    "\n",
    "                num_episodes = len(episode_rewards)\n",
    "                if self.verbose >= 1 and done and log_interval is not None and len(episode_rewards) % log_interval == 0:\n",
    "                    logger.record_tabular(\"steps\", self.num_timesteps)\n",
    "                    logger.record_tabular(\"episodes\", num_episodes)\n",
    "                    logger.record_tabular(\"mean 100 episode reward\", mean_100ep_reward)\n",
    "                    logger.record_tabular(\"% time spent exploring\",\n",
    "                                          int(100 * self.exploration.value(self.num_timesteps)))\n",
    "                    logger.dump_tabular()\n",
    "\n",
    "                self.num_timesteps += 1\n",
    "\n",
    "        return self\n",
    "\n",
    "    def predict(self, observation, state=None, mask=None, deterministic=True):\n",
    "        observation = np.array(observation)\n",
    "        vectorized_env = self._is_vectorized_observation(observation, self.observation_space)\n",
    "\n",
    "        observation = observation.reshape((-1,) + self.observation_space.shape)\n",
    "        with self.sess.as_default():\n",
    "            actions, _, _ = self.step_model.step(observation, deterministic=deterministic)\n",
    "\n",
    "        if not vectorized_env:\n",
    "            actions = actions[0]\n",
    "\n",
    "        return actions, None\n",
    "    \n",
    "    def action_probability(self, observation, state=None, mask=None, actions=None):\n",
    "        observation = np.array(observation)\n",
    "        vectorized_env = self._is_vectorized_observation(observation, self.observation_space)\n",
    "\n",
    "        observation = observation.reshape((-1,) + self.observation_space.shape)\n",
    "        actions_proba = self.proba_step(observation, state, mask)\n",
    "\n",
    "        if actions is not None:  # comparing the action distribution, to given actions\n",
    "            actions = np.array([actions])\n",
    "            assert isinstance(self.action_space, gym.spaces.Discrete)\n",
    "            actions = actions.reshape((-1,))\n",
    "            assert observation.shape[0] == actions.shape[0], \"Error: batch sizes differ for actions and observations.\"\n",
    "            actions_proba = actions_proba[np.arange(actions.shape[0]), actions]\n",
    "            # normalize action proba shape\n",
    "            actions_proba = actions_proba.reshape((-1, 1))\n",
    "\n",
    "        if not vectorized_env:\n",
    "            if state is not None:\n",
    "                raise ValueError(\"Error: The environment must be vectorized when using recurrent policies.\")\n",
    "            actions_proba = actions_proba[0]\n",
    "\n",
    "        return actions_proba\n",
    "    \n",
    "    def save(self, save_path):\n",
    "        # params\n",
    "        data = {\n",
    "            \"checkpoint_path\": self.checkpoint_path,\n",
    "            \"param_noise\": self.param_noise,\n",
    "            \"learning_starts\": self.learning_starts,\n",
    "            \"train_freq\": self.train_freq,\n",
    "            \"prioritized_replay\": self.prioritized_replay,\n",
    "            \"prioritized_replay_eps\": self.prioritized_replay_eps,\n",
    "            \"batch_size\": self.batch_size,\n",
    "            \"target_network_update_freq\": self.target_network_update_freq,\n",
    "            \"checkpoint_freq\": self.checkpoint_freq,\n",
    "            \"prioritized_replay_alpha\": self.prioritized_replay_alpha,\n",
    "            \"prioritized_replay_beta0\": self.prioritized_replay_beta0,\n",
    "            \"prioritized_replay_beta_iters\": self.prioritized_replay_beta_iters,\n",
    "            \"exploration_final_eps\": self.exploration_final_eps,\n",
    "            \"exploration_fraction\": self.exploration_fraction,\n",
    "            \"learning_rate\": self.learning_rate,\n",
    "            \"gamma\": self.gamma,\n",
    "            \"verbose\": self.verbose,\n",
    "            \"observation_space\": self.observation_space,\n",
    "            \"action_space\": self.action_space,\n",
    "            \"policy\": self.policy,\n",
    "            \"n_envs\": self.n_envs,\n",
    "            \"_vectorize_action\": self._vectorize_action,\n",
    "            \"policy_kwargs\": self.policy_kwargs\n",
    "        }\n",
    "\n",
    "        params = self.sess.run(self.params)\n",
    "\n",
    "        self._save_to_file(save_path, data=data, params=params)\n",
    "\n",
    "    @classmethod\n",
    "    def load(cls, load_path, env=None, **kwargs):\n",
    "        data, params = cls._load_from_file(load_path)\n",
    "\n",
    "        if 'policy_kwargs' in kwargs and kwargs['policy_kwargs'] != data['policy_kwargs']:\n",
    "            raise ValueError(\"The specified policy kwargs do not equal the stored policy kwargs. \"\n",
    "                             \"Stored kwargs: {}, specified kwargs: {}\".format(data['policy_kwargs'],\n",
    "                                                                              kwargs['policy_kwargs']))\n",
    "\n",
    "        model = cls(policy=data[\"policy\"], env=env, _init_setup_model=False)\n",
    "        model.__dict__.update(data)\n",
    "        model.__dict__.update(kwargs)\n",
    "        model.set_env(env)\n",
    "        model.setup_model()\n",
    "\n",
    "        restores = []\n",
    "        for param, loaded_p in zip(model.params, params):\n",
    "            restores.append(param.assign(loaded_p))\n",
    "        model.sess.run(restores)\n",
    "\n",
    "        return model"
   ]
  },
  {
   "cell_type": "code",
   "execution_count": 2,
   "metadata": {},
   "outputs": [],
   "source": [
    "def moving_average(values, window):\n",
    "    \"\"\"\n",
    "    Smooth values by doing a moving average\n",
    "    :param values: (numpy array)\n",
    "    :param window: (int)\n",
    "    :return: (numpy array)\n",
    "    \"\"\"\n",
    "    weights = np.repeat(1.0, window) / window\n",
    "    return np.convolve(values, weights, 'valid')"
   ]
  },
  {
   "cell_type": "code",
   "execution_count": 9,
   "metadata": {},
   "outputs": [],
   "source": [
    "def plot_results(log_folder, title='Learning Curve'):\n",
    "    \"\"\"\n",
    "    plot the results\n",
    "\n",
    "    :param log_folder: (str) the save location of the results to plot\n",
    "    :param title: (str) the title of the task to plot\n",
    "    \"\"\"\n",
    "    x, y = ts2xy(load_results(log_folder), 'timesteps')\n",
    "    y = moving_average(y, window=50)\n",
    "    # Truncate x\n",
    "    x = x[len(x) - len(y):]\n",
    "\n",
    "    fig = plt.figure(title)\n",
    "    plt.plot(x, y)\n",
    "    plt.xlabel('Number of Timesteps')\n",
    "    plt.ylabel('Rewards')\n",
    "    plt.title(title + \" Smoothed\")\n",
    "    plt.show()\n"
   ]
  },
  {
   "cell_type": "code",
   "execution_count": 10,
   "metadata": {},
   "outputs": [
    {
     "data": {
      "image/png": "[encoded data removed]",
      "text/plain": [
       "<matplotlib.figure.Figure at 0x1c31507048>"
      ]
     },
     "metadata": {},
     "output_type": "display_data"
    }
   ],
   "source": [
    "plot_results('./logs')"
   ]
  },
  {
   "cell_type": "code",
   "execution_count": 11,
   "metadata": {},
   "outputs": [],
   "source": [
    "a = [1,2,3,4,5,6]"
   ]
  },
  {
   "cell_type": "code",
   "execution_count": 34,
   "metadata": {},
   "outputs": [],
   "source": [
    "indx = 0\n",
    "size_ratio = 0.5\n",
    "last_ind = -2\n"
   ]
  },
  {
   "cell_type": "code",
   "execution_count": 39,
   "metadata": {},
   "outputs": [
    {
     "data": {
      "text/plain": [
       "[3, 4, 5, 6]"
      ]
     },
     "execution_count": 39,
     "metadata": {},
     "output_type": "execute_result"
    }
   ],
   "source": [
    "a[-4::]"
   ]
  },
  {
   "cell_type": "code",
   "execution_count": 32,
   "metadata": {},
   "outputs": [
    {
     "data": {
      "text/plain": [
       "[4, 3]"
      ]
     },
     "execution_count": 32,
     "metadata": {},
     "output_type": "execute_result"
    }
   ],
   "source": [
    "a[2: -2][::-1]"
   ]
  },
  {
   "cell_type": "code",
   "execution_count": 88,
   "metadata": {},
   "outputs": [],
   "source": [
    "stop = 3\n",
    "start = stop -min(1*7, len(a)) "
   ]
  },
  {
   "cell_type": "code",
   "execution_count": 89,
   "metadata": {},
   "outputs": [],
   "source": [
    "idxs = list(range(start,stop))"
   ]
  },
  {
   "cell_type": "code",
   "execution_count": 90,
   "metadata": {},
   "outputs": [
    {
     "data": {
      "text/plain": [
       "[-3, -2, -1, 0, 1, 2]"
      ]
     },
     "execution_count": 90,
     "metadata": {},
     "output_type": "execute_result"
    }
   ],
   "source": [
    "idxs"
   ]
  },
  {
   "cell_type": "code",
   "execution_count": 91,
   "metadata": {},
   "outputs": [
    {
     "name": "stdout",
     "output_type": "stream",
     "text": [
      "4\n",
      "5\n",
      "6\n",
      "1\n",
      "2\n",
      "3\n"
     ]
    }
   ],
   "source": [
    "for idx in idxs: print(a[idx])"
   ]
  },
  {
   "cell_type": "code",
   "execution_count": 53,
   "metadata": {},
   "outputs": [
    {
     "name": "stdout",
     "output_type": "stream",
     "text": [
      "sample 1\n",
      "sample 1\n",
      "sample 0\n",
      "sample 0\n",
      "sample 0\n",
      "sample 1\n",
      "sample 0\n",
      "sample 1\n",
      "sample 0\n",
      "sample 1\n"
     ]
    }
   ],
   "source": [
    "for i in range(10): print('sample', random.choice(list(range(2))+ list(range(0,6))))"
   ]
  },
  {
   "cell_type": "code",
   "execution_count": 18,
   "metadata": {},
   "outputs": [],
   "source": [
    "for i in range(10):\n",
    "    d.append(i)"
   ]
  },
  {
   "cell_type": "code",
   "execution_count": 19,
   "metadata": {},
   "outputs": [
    {
     "data": {
      "text/plain": [
       "deque([0, 1, 2, 3, 4, 5, 6, 7, 8, 9])"
      ]
     },
     "execution_count": 19,
     "metadata": {},
     "output_type": "execute_result"
    }
   ],
   "source": [
    "d"
   ]
  },
  {
   "cell_type": "code",
   "execution_count": 20,
   "metadata": {},
   "outputs": [],
   "source": [
    "d.append(10)"
   ]
  },
  {
   "cell_type": "code",
   "execution_count": 21,
   "metadata": {},
   "outputs": [
    {
     "data": {
      "text/plain": [
       "deque([1, 2, 3, 4, 5, 6, 7, 8, 9, 10])"
      ]
     },
     "execution_count": 21,
     "metadata": {},
     "output_type": "execute_result"
    }
   ],
   "source": [
    "d"
   ]
  },
  {
   "cell_type": "code",
   "execution_count": 22,
   "metadata": {},
   "outputs": [],
   "source": [
    "d.append(4)"
   ]
  },
  {
   "cell_type": "code",
   "execution_count": 23,
   "metadata": {},
   "outputs": [
    {
     "data": {
      "text/plain": [
       "deque([2, 3, 4, 5, 6, 7, 8, 9, 10, 4])"
      ]
     },
     "execution_count": 23,
     "metadata": {},
     "output_type": "execute_result"
    }
   ],
   "source": [
    "d"
   ]
  },
  {
   "cell_type": "code",
   "execution_count": 26,
   "metadata": {},
   "outputs": [
    {
     "ename": "AttributeError",
     "evalue": "attribute 'maxlen' of 'collections.deque' objects is not writable",
     "output_type": "error",
     "traceback": [
      "\u001b[0;31m---------------------------------------------------------------------------\u001b[0m",
      "\u001b[0;31mAttributeError\u001b[0m                            Traceback (most recent call last)",
      "\u001b[0;32m<ipython-input-26-846a737cb679>\u001b[0m in \u001b[0;36m<module>\u001b[0;34m()\u001b[0m\n\u001b[0;32m----> 1\u001b[0;31m \u001b[0md\u001b[0m\u001b[0;34m.\u001b[0m\u001b[0mmaxlen\u001b[0m  \u001b[0;34m=\u001b[0m \u001b[0;36m5\u001b[0m\u001b[0;34m\u001b[0m\u001b[0m\n\u001b[0m",
      "\u001b[0;31mAttributeError\u001b[0m: attribute 'maxlen' of 'collections.deque' objects is not writable"
     ]
    }
   ],
   "source": [
    "d = 5"
   ]
  },
  {
   "cell_type": "code",
   "execution_count": 29,
   "metadata": {},
   "outputs": [
    {
     "ename": "TypeError",
     "evalue": "randint() takes 3 positional arguments but 5 were given",
     "output_type": "error",
     "traceback": [
      "\u001b[0;31m---------------------------------------------------------------------------\u001b[0m",
      "\u001b[0;31mTypeError\u001b[0m                                 Traceback (most recent call last)",
      "\u001b[0;32m<ipython-input-29-26512e7ee9b4>\u001b[0m in \u001b[0;36m<module>\u001b[0;34m()\u001b[0m\n\u001b[1;32m      1\u001b[0m \u001b[0;32mimport\u001b[0m \u001b[0mrandom\u001b[0m\u001b[0;34m\u001b[0m\u001b[0m\n\u001b[0;32m----> 2\u001b[0;31m \u001b[0mrandom\u001b[0m\u001b[0;34m.\u001b[0m\u001b[0mrandint\u001b[0m\u001b[0;34m(\u001b[0m\u001b[0;36m0\u001b[0m\u001b[0;34m,\u001b[0m \u001b[0;36m5\u001b[0m\u001b[0;34m,\u001b[0m \u001b[0;36m6\u001b[0m\u001b[0;34m,\u001b[0m\u001b[0;36m8\u001b[0m\u001b[0;34m)\u001b[0m\u001b[0;34m\u001b[0m\u001b[0m\n\u001b[0m",
      "\u001b[0;31mTypeError\u001b[0m: randint() takes 3 positional arguments but 5 were given"
     ]
    }
   ],
   "source": [
    "import random\n",
    "random.randran"
   ]
  },
  {
   "cell_type": "code",
   "execution_count": null,
   "metadata": {},
   "outputs": [],
   "source": []
  },
  {
   "cell_type": "code",
   "execution_count": 8,
   "metadata": {},
   "outputs": [],
   "source": [
    "env = make_atari('BreakoutNoFrameskip-v4')\n",
    "#env = wrap_atari_dqn(env)\n",
    "env = Monitor(env, 'logs', allow_early_resets=True)"
   ]
  },
  {
   "cell_type": "code",
   "execution_count": 9,
   "metadata": {},
   "outputs": [
    {
     "data": {
      "text/plain": [
       "<stable_baselines.deepq.dqn.DQN at 0x1c2b76f518>"
      ]
     },
     "execution_count": 9,
     "metadata": {},
     "output_type": "execute_result"
    }
   ],
   "source": [
    "model = DQN(CnnPolicy, env, verbose=1)\n",
    "model.learn(total_timesteps=250)"
   ]
  },
  {
   "cell_type": "code",
   "execution_count": 7,
   "metadata": {},
   "outputs": [
    {
     "name": "stdout",
     "output_type": "stream",
     "text": [
      "Loading a model without an environment, this model cannot be trained until it has a valid environment.\n"
     ]
    }
   ],
   "source": [
    "model = DQN.load(\"deepq_breakout_exp_lr\")"
   ]
  },
  {
   "cell_type": "code",
   "execution_count": 8,
   "metadata": {},
   "outputs": [],
   "source": [
    "obs = env.reset()\n",
    "i = 0\n",
    "while i<1000:\n",
    "    action, _states = model.predict(obs)\n",
    "    obs, rewards, dones, info = env.step(action)\n",
    "    i+=1\n",
    "    env.render()"
   ]
  },
  {
   "cell_type": "code",
   "execution_count": null,
   "metadata": {},
   "outputs": [],
   "source": []
  }
 ],
 "metadata": {
  "kernelspec": {
   "display_name": "Python 3",
   "language": "python",
   "name": "python3"
  },
  "language_info": {
   "codemirror_mode": {
    "name": "ipython",
    "version": 3
   },
   "file_extension": ".py",
   "mimetype": "text/x-python",
   "name": "python",
   "nbconvert_exporter": "python",
   "pygments_lexer": "ipython3",
   "version": "3.6.4"
  }
 },
 "nbformat": 4,
 "nbformat_minor": 2
}
